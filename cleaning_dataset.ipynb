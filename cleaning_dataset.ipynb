{
 "cells": [
  {
   "cell_type": "code",
   "execution_count": 1,
   "metadata": {
    "scrolled": true
   },
   "outputs": [],
   "source": [
    "import numpy as np\n",
    "import pandas as pd\n",
    "import re\n",
    "import string\n",
    "from stop_words import get_stop_words\n",
    "stop_words = get_stop_words('indonesian')"
   ]
  },
  {
   "cell_type": "code",
   "execution_count": 2,
   "metadata": {},
   "outputs": [],
   "source": [
    "df = pd.read_csv(\"dataset.csv\")\n",
    "df.head()\n",
    "df = df.dropna()"
   ]
  },
  {
   "cell_type": "code",
   "execution_count": 3,
   "metadata": {},
   "outputs": [],
   "source": [
    "key_norm = pd.read_csv('key_norm.csv')"
   ]
  },
  {
   "cell_type": "code",
   "execution_count": 4,
   "metadata": {},
   "outputs": [],
   "source": [
    "def preprocess_text(s):\n",
    "    s = s.strip()\n",
    "    s = str.lower(s)\n",
    "\n",
    "    # URL separator\n",
    "    s = s.replace('.', ' ')\n",
    "    \n",
    "    # menghapus simbol\n",
    "    s = s.translate(str.maketrans('', '', string.punctuation)) \n",
    "    \n",
    "    # mengganti angka dengan string kosong\n",
    "    s = ' '.join(re.sub(r\"[0-9]+\", '', word) for word in s.split())\n",
    "\n",
    "    # mengubah setiap kata menjadi bentuk kata bakunya\n",
    "    s = ' '.join([key_norm[key_norm['singkat'] == word]['hasil'].values[0] if (key_norm[\"singkat\"]==word).any() else word for word in s.split()])\n",
    "    s = str.lower(s)\n",
    "    \n",
    "    # menghapus pengulangan kata\n",
    "    s = s.replace('-', ' ')\n",
    "    \n",
    "    # menghilangkan kata dengan panjang 1\n",
    "    s = ' '.join(word for word in s.split() if len(word) >= 2)\n",
    "    \n",
    "    # menghilangkan stopwords\n",
    "    s = ' '.join(word for word in s.split() if word not in stop_words)\n",
    "    \n",
    "    return s"
   ]
  },
  {
   "cell_type": "code",
   "execution_count": 5,
   "metadata": {},
   "outputs": [
    {
     "name": "stdout",
     "output_type": "stream",
     "text": [
      "(7273, 2)\n",
      "(7256, 2)\n",
      "cleaning dataset elapsed time: 77.33943581581116\n"
     ]
    },
    {
     "data": {
      "text/html": [
       "<div>\n",
       "<style scoped>\n",
       "    .dataframe tbody tr th:only-of-type {\n",
       "        vertical-align: middle;\n",
       "    }\n",
       "\n",
       "    .dataframe tbody tr th {\n",
       "        vertical-align: top;\n",
       "    }\n",
       "\n",
       "    .dataframe thead th {\n",
       "        text-align: right;\n",
       "    }\n",
       "</style>\n",
       "<table border=\"1\" class=\"dataframe\">\n",
       "  <thead>\n",
       "    <tr style=\"text-align: right;\">\n",
       "      <th></th>\n",
       "      <th>Teks</th>\n",
       "      <th>label</th>\n",
       "    </tr>\n",
       "  </thead>\n",
       "  <tbody>\n",
       "    <tr>\n",
       "      <th>0</th>\n",
       "      <td>dek baikan</td>\n",
       "      <td>0</td>\n",
       "    </tr>\n",
       "    <tr>\n",
       "      <th>1</th>\n",
       "      <td>ikuti seminar inspiratif cara mudah sukses bis...</td>\n",
       "      <td>1</td>\n",
       "    </tr>\n",
       "    <tr>\n",
       "      <th>2</th>\n",
       "      <td>terpilih pemenang cek rupiah juta kuota flash ...</td>\n",
       "      <td>1</td>\n",
       "    </tr>\n",
       "    <tr>\n",
       "      <th>3</th>\n",
       "      <td>punya masalah keuangan cukup jaminkan bpkb mob...</td>\n",
       "      <td>1</td>\n",
       "    </tr>\n",
       "    <tr>\n",
       "      <th>4</th>\n",
       "      <td>diskn tgel jkerbet bit lysngroy pasaran terbai...</td>\n",
       "      <td>1</td>\n",
       "    </tr>\n",
       "  </tbody>\n",
       "</table>\n",
       "</div>"
      ],
      "text/plain": [
       "                                                Teks  label\n",
       "0                                         dek baikan      0\n",
       "1  ikuti seminar inspiratif cara mudah sukses bis...      1\n",
       "2  terpilih pemenang cek rupiah juta kuota flash ...      1\n",
       "3  punya masalah keuangan cukup jaminkan bpkb mob...      1\n",
       "4  diskn tgel jkerbet bit lysngroy pasaran terbai...      1"
      ]
     },
     "execution_count": 5,
     "metadata": {},
     "output_type": "execute_result"
    }
   ],
   "source": [
    "import time\n",
    "\n",
    "t1 = time.time()\n",
    "df.loc[:,\"Teks\"] = df.Teks.apply(lambda s: preprocess_text(s))\n",
    "print(df.shape)\n",
    "df = df.drop(df[df.Teks == \"\"].index)\n",
    "print(df.shape)\n",
    "df = df[['Teks', 'label']]\n",
    "print('cleaning dataset elapsed time:', time.time() - t1)\n",
    "df.head()"
   ]
  },
  {
   "cell_type": "code",
   "execution_count": 6,
   "metadata": {},
   "outputs": [
    {
     "data": {
      "text/plain": [
       "Teks     object\n",
       "label     int64\n",
       "dtype: object"
      ]
     },
     "execution_count": 6,
     "metadata": {},
     "output_type": "execute_result"
    }
   ],
   "source": [
    "df['label'] = df['label'].astype('int64')\n",
    "df.dtypes"
   ]
  },
  {
   "cell_type": "markdown",
   "metadata": {},
   "source": [
    "### Save clean_dataset_without_stemming"
   ]
  },
  {
   "cell_type": "code",
   "execution_count": 7,
   "metadata": {},
   "outputs": [],
   "source": [
    "df.to_csv(\"clean_dataset.csv\", index=False)"
   ]
  },
  {
   "cell_type": "markdown",
   "metadata": {},
   "source": [
    "### Stemming"
   ]
  },
  {
   "cell_type": "code",
   "execution_count": 8,
   "metadata": {},
   "outputs": [
    {
     "name": "stdout",
     "output_type": "stream",
     "text": [
      "Stemming is done in 1188.726644039154\n",
      "\n"
     ]
    }
   ],
   "source": [
    "import time\n",
    "from Sastrawi.Stemmer.StemmerFactory import StemmerFactory\n",
    "t1 = time.time()\n",
    "stemmer = StemmerFactory().create_stemmer()\n",
    "df['Teks'] = df.apply(lambda row: stemmer.stem(row['Teks']), axis=1)\n",
    "print('Stemming is done in', time.time() - t1)\n",
    "print()"
   ]
  },
  {
   "cell_type": "markdown",
   "metadata": {},
   "source": [
    "### Save clean_dataset_with_stemming"
   ]
  },
  {
   "cell_type": "code",
   "execution_count": 9,
   "metadata": {},
   "outputs": [],
   "source": [
    "df.to_csv(\"clean_dataset_with_stemming.csv\", index=False)"
   ]
  },
  {
   "cell_type": "code",
   "execution_count": 10,
   "metadata": {},
   "outputs": [],
   "source": [
    "df2 = pd.read_csv('clean_dataset.csv')"
   ]
  },
  {
   "cell_type": "code",
   "execution_count": 11,
   "metadata": {},
   "outputs": [
    {
     "data": {
      "text/plain": [
       "Teks     object\n",
       "label     int64\n",
       "dtype: object"
      ]
     },
     "execution_count": 11,
     "metadata": {},
     "output_type": "execute_result"
    }
   ],
   "source": [
    "df2.dtypes"
   ]
  },
  {
   "cell_type": "code",
   "execution_count": null,
   "metadata": {},
   "outputs": [],
   "source": []
  },
  {
   "cell_type": "code",
   "execution_count": 12,
   "metadata": {},
   "outputs": [
    {
     "data": {
      "text/plain": [
       "'1390129 safsafasf afoasfjpasojf poafjaspo jasopfj aspo safoasfasok fsaofjsaofjasofja aspjaopjasfopasjfpoasj pojop asjfpo ajsfopa jsapof jsapofja spofsajf posajfpo asjfpoas jfopsa fjsapof japsofj aspofjaso pfjaspofjs aposajpo saj sjaposj poasjf poasjfsopa jaspo jpoj opj apoj poaj aposjpo ajpo jaopj opaj poaop ajpo ajopaj poaj poaj poajop aso'"
      ]
     },
     "execution_count": 12,
     "metadata": {},
     "output_type": "execute_result"
    }
   ],
   "source": [
    "import time\n",
    "from Sastrawi.Stemmer.StemmerFactory import StemmerFactory\n",
    "t1 = time.time()\n",
    "stemmer = StemmerFactory().create_stemmer()\n",
    "stemmer.stem('1390129 safsafasf     afoasfjpasojf poafjaspo jasopfj aspo  \\n safoasfasok fsaofjsaofjasofja aspjaopjasfopasjfpoasj pojop asjfpo ajsfopa jsapof jsapofja spofsajf posajfpo asjfpoas jfopsa fjsapof japsofj aspofjaso pfjaspofjs aposajpo saj sjaposj poasjf poasjfsopa jaspo jpoj opj apoj poaj aposjpo ajpo jaopj opaj poaop ajpo ajopaj poaj poaj poajop aso')"
   ]
  },
  {
   "cell_type": "code",
   "execution_count": null,
   "metadata": {},
   "outputs": [],
   "source": []
  }
 ],
 "metadata": {
  "kernelspec": {
   "display_name": "Python 3",
   "language": "python",
   "name": "python3"
  },
  "language_info": {
   "codemirror_mode": {
    "name": "ipython",
    "version": 3
   },
   "file_extension": ".py",
   "mimetype": "text/x-python",
   "name": "python",
   "nbconvert_exporter": "python",
   "pygments_lexer": "ipython3",
   "version": "3.7.1"
  }
 },
 "nbformat": 4,
 "nbformat_minor": 2
}
