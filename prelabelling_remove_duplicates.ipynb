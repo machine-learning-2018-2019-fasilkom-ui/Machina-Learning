{
 "cells": [
  {
   "cell_type": "code",
   "execution_count": 19,
   "metadata": {},
   "outputs": [],
   "source": [
    "import pandas as pd \n",
    "import os\n",
    "import re"
   ]
  },
  {
   "cell_type": "code",
   "execution_count": 20,
   "metadata": {},
   "outputs": [
    {
     "data": {
      "text/plain": [
       "'C:\\\\Users\\\\yusufsholeh\\\\Documents\\\\ML'"
      ]
     },
     "execution_count": 20,
     "metadata": {},
     "output_type": "execute_result"
    }
   ],
   "source": [
    "# os.chdir(\"C:\\\\Users\\\\yusufsholeh\\\\Documents\\\\ML\\\\Machina-Learning\")\n",
    "os.getcwd()"
   ]
  },
  {
   "cell_type": "code",
   "execution_count": 21,
   "metadata": {},
   "outputs": [
    {
     "data": {
      "text/plain": [
       "['.ipynb_checkpoints',\n",
       " 'Machina-Learning',\n",
       " 'raw_data.csv',\n",
       " 'removed_duplicates.csv',\n",
       " 'remove_duplicates.ipynb',\n",
       " 'sms-20190416-213640.xls',\n",
       " 'Untitled.ipynb']"
      ]
     },
     "execution_count": 21,
     "metadata": {},
     "output_type": "execute_result"
    }
   ],
   "source": [
    "os.listdir()"
   ]
  },
  {
   "cell_type": "code",
   "execution_count": 22,
   "metadata": {},
   "outputs": [],
   "source": [
    "df = pd.read_csv(\"raw_data.csv\")"
   ]
  },
  {
   "cell_type": "code",
   "execution_count": 23,
   "metadata": {},
   "outputs": [
    {
     "data": {
      "text/html": [
       "<div>\n",
       "<style scoped>\n",
       "    .dataframe tbody tr th:only-of-type {\n",
       "        vertical-align: middle;\n",
       "    }\n",
       "\n",
       "    .dataframe tbody tr th {\n",
       "        vertical-align: top;\n",
       "    }\n",
       "\n",
       "    .dataframe thead th {\n",
       "        text-align: right;\n",
       "    }\n",
       "</style>\n",
       "<table border=\"1\" class=\"dataframe\">\n",
       "  <thead>\n",
       "    <tr style=\"text-align: right;\">\n",
       "      <th></th>\n",
       "      <th>Teks</th>\n",
       "      <th>label</th>\n",
       "    </tr>\n",
       "  </thead>\n",
       "  <tbody>\n",
       "    <tr>\n",
       "      <th>0</th>\n",
       "      <td>Sy dh di rmh no 2</td>\n",
       "      <td>0.0</td>\n",
       "    </tr>\n",
       "    <tr>\n",
       "      <th>1</th>\n",
       "      <td>pak bilang sj ya itu charger laptop</td>\n",
       "      <td>0.0</td>\n",
       "    </tr>\n",
       "    <tr>\n",
       "      <th>2</th>\n",
       "      <td>Mas.. sy gantung di bel ya mas .</td>\n",
       "      <td>0.0</td>\n",
       "    </tr>\n",
       "    <tr>\n",
       "      <th>3</th>\n",
       "      <td>Sore mas\\nSy Dr gojek,,,ini sesuai pesanan ya\\...</td>\n",
       "      <td>1.0</td>\n",
       "    </tr>\n",
       "    <tr>\n",
       "      <th>4</th>\n",
       "      <td>MERDEKA !!! Ambil diskon PULSA dan hadiah prom...</td>\n",
       "      <td>1.0</td>\n",
       "    </tr>\n",
       "  </tbody>\n",
       "</table>\n",
       "</div>"
      ],
      "text/plain": [
       "                                                Teks  label\n",
       "0                                  Sy dh di rmh no 2    0.0\n",
       "1               pak bilang sj ya itu charger laptop     0.0\n",
       "2                   Mas.. sy gantung di bel ya mas .    0.0\n",
       "3  Sore mas\\nSy Dr gojek,,,ini sesuai pesanan ya\\...    1.0\n",
       "4  MERDEKA !!! Ambil diskon PULSA dan hadiah prom...    1.0"
      ]
     },
     "execution_count": 23,
     "metadata": {},
     "output_type": "execute_result"
    }
   ],
   "source": [
    "df.head()"
   ]
  },
  {
   "cell_type": "code",
   "execution_count": 24,
   "metadata": {},
   "outputs": [
    {
     "data": {
      "text/plain": [
       "Teks      object\n",
       "label    float64\n",
       "dtype: object"
      ]
     },
     "execution_count": 24,
     "metadata": {},
     "output_type": "execute_result"
    }
   ],
   "source": [
    "df.dtypes"
   ]
  },
  {
   "cell_type": "code",
   "execution_count": 25,
   "metadata": {},
   "outputs": [],
   "source": [
    "# os.chdir(\"C:\\\\Users\\\\yusufsholeh\\\\Documents\\\\ML\\\\Machina-Learning\")"
   ]
  },
  {
   "cell_type": "code",
   "execution_count": 26,
   "metadata": {},
   "outputs": [],
   "source": [
    "# df2 = pd.read_csv(\"dataset.csv\")"
   ]
  },
  {
   "cell_type": "code",
   "execution_count": 27,
   "metadata": {},
   "outputs": [],
   "source": [
    "# df2.dtypes"
   ]
  },
  {
   "cell_type": "code",
   "execution_count": 28,
   "metadata": {},
   "outputs": [
    {
     "data": {
      "text/html": [
       "<div>\n",
       "<style scoped>\n",
       "    .dataframe tbody tr th:only-of-type {\n",
       "        vertical-align: middle;\n",
       "    }\n",
       "\n",
       "    .dataframe tbody tr th {\n",
       "        vertical-align: top;\n",
       "    }\n",
       "\n",
       "    .dataframe thead th {\n",
       "        text-align: right;\n",
       "    }\n",
       "</style>\n",
       "<table border=\"1\" class=\"dataframe\">\n",
       "  <thead>\n",
       "    <tr style=\"text-align: right;\">\n",
       "      <th></th>\n",
       "      <th>Teks</th>\n",
       "      <th>label</th>\n",
       "    </tr>\n",
       "  </thead>\n",
       "  <tbody>\n",
       "    <tr>\n",
       "      <th>0</th>\n",
       "      <td>Sy dh di rmh no 2</td>\n",
       "      <td>0.0</td>\n",
       "    </tr>\n",
       "    <tr>\n",
       "      <th>1</th>\n",
       "      <td>pak bilang sj ya itu charger laptop</td>\n",
       "      <td>0.0</td>\n",
       "    </tr>\n",
       "    <tr>\n",
       "      <th>2</th>\n",
       "      <td>Mas.. sy gantung di bel ya mas .</td>\n",
       "      <td>0.0</td>\n",
       "    </tr>\n",
       "    <tr>\n",
       "      <th>3</th>\n",
       "      <td>Sore mas\\nSy Dr gojek,,,ini sesuai pesanan ya\\...</td>\n",
       "      <td>1.0</td>\n",
       "    </tr>\n",
       "    <tr>\n",
       "      <th>4</th>\n",
       "      <td>MERDEKA !!! Ambil diskon PULSA dan hadiah prom...</td>\n",
       "      <td>1.0</td>\n",
       "    </tr>\n",
       "  </tbody>\n",
       "</table>\n",
       "</div>"
      ],
      "text/plain": [
       "                                                Teks  label\n",
       "0                                  Sy dh di rmh no 2    0.0\n",
       "1               pak bilang sj ya itu charger laptop     0.0\n",
       "2                   Mas.. sy gantung di bel ya mas .    0.0\n",
       "3  Sore mas\\nSy Dr gojek,,,ini sesuai pesanan ya\\...    1.0\n",
       "4  MERDEKA !!! Ambil diskon PULSA dan hadiah prom...    1.0"
      ]
     },
     "execution_count": 28,
     "metadata": {},
     "output_type": "execute_result"
    }
   ],
   "source": [
    "df.head()"
   ]
  },
  {
   "cell_type": "code",
   "execution_count": 29,
   "metadata": {},
   "outputs": [
    {
     "data": {
      "text/html": [
       "<div>\n",
       "<style scoped>\n",
       "    .dataframe tbody tr th:only-of-type {\n",
       "        vertical-align: middle;\n",
       "    }\n",
       "\n",
       "    .dataframe tbody tr th {\n",
       "        vertical-align: top;\n",
       "    }\n",
       "\n",
       "    .dataframe thead th {\n",
       "        text-align: right;\n",
       "    }\n",
       "</style>\n",
       "<table border=\"1\" class=\"dataframe\">\n",
       "  <thead>\n",
       "    <tr style=\"text-align: right;\">\n",
       "      <th></th>\n",
       "      <th>Teks</th>\n",
       "      <th>label</th>\n",
       "      <th>normalized_text</th>\n",
       "    </tr>\n",
       "  </thead>\n",
       "  <tbody>\n",
       "    <tr>\n",
       "      <th>0</th>\n",
       "      <td>Sy dh di rmh no 2</td>\n",
       "      <td>0.0</td>\n",
       "      <td>sydhdirmhno</td>\n",
       "    </tr>\n",
       "    <tr>\n",
       "      <th>1</th>\n",
       "      <td>pak bilang sj ya itu charger laptop</td>\n",
       "      <td>0.0</td>\n",
       "      <td>pakbilangsjyaituchargerlaptop</td>\n",
       "    </tr>\n",
       "    <tr>\n",
       "      <th>2</th>\n",
       "      <td>Mas.. sy gantung di bel ya mas .</td>\n",
       "      <td>0.0</td>\n",
       "      <td>massygantungdibelyamas</td>\n",
       "    </tr>\n",
       "    <tr>\n",
       "      <th>3</th>\n",
       "      <td>Sore mas\\nSy Dr gojek,,,ini sesuai pesanan ya\\...</td>\n",
       "      <td>1.0</td>\n",
       "      <td>soremassydrgojekinisesuaipesananyamohonditungg...</td>\n",
       "    </tr>\n",
       "    <tr>\n",
       "      <th>4</th>\n",
       "      <td>MERDEKA !!! Ambil diskon PULSA dan hadiah prom...</td>\n",
       "      <td>1.0</td>\n",
       "      <td>merdekaambildiskonpulsadanhadiahpromomerdekamu...</td>\n",
       "    </tr>\n",
       "  </tbody>\n",
       "</table>\n",
       "</div>"
      ],
      "text/plain": [
       "                                                Teks  label  \\\n",
       "0                                  Sy dh di rmh no 2    0.0   \n",
       "1               pak bilang sj ya itu charger laptop     0.0   \n",
       "2                   Mas.. sy gantung di bel ya mas .    0.0   \n",
       "3  Sore mas\\nSy Dr gojek,,,ini sesuai pesanan ya\\...    1.0   \n",
       "4  MERDEKA !!! Ambil diskon PULSA dan hadiah prom...    1.0   \n",
       "\n",
       "                                     normalized_text  \n",
       "0                                        sydhdirmhno  \n",
       "1                      pakbilangsjyaituchargerlaptop  \n",
       "2                             massygantungdibelyamas  \n",
       "3  soremassydrgojekinisesuaipesananyamohonditungg...  \n",
       "4  merdekaambildiskonpulsadanhadiahpromomerdekamu...  "
      ]
     },
     "execution_count": 29,
     "metadata": {},
     "output_type": "execute_result"
    }
   ],
   "source": [
    "def normalize(s):\n",
    "    s = str.lower(s)\n",
    "    \n",
    "    # replace numbers with empty string\n",
    "    s = ' '.join(re.sub(r\"[0-9]+\", '', word) for word in s.split())\n",
    "    \n",
    "    # remove symbols\n",
    "    s = ' '.join(re.findall('[\\w]+',s))\n",
    "    \n",
    "    # remove spaces\n",
    "    s = re.sub('\\s+',' ',s)\n",
    "    s = s.strip()\n",
    "    s = s.replace(\" \", \"\")\n",
    "    \n",
    "    return s\n",
    "\n",
    "def add_normalized_column(df):\n",
    "    df['normalized_text'] = df.apply(lambda row: normalize(row['Teks']), axis=1)\n",
    "    return df\n",
    "\n",
    "df = add_normalized_column(df)\n",
    "df.head()"
   ]
  },
  {
   "cell_type": "code",
   "execution_count": 30,
   "metadata": {},
   "outputs": [
    {
     "data": {
      "text/plain": [
       "(1765, 3)"
      ]
     },
     "execution_count": 30,
     "metadata": {},
     "output_type": "execute_result"
    }
   ],
   "source": [
    "df.shape"
   ]
  },
  {
   "cell_type": "code",
   "execution_count": 31,
   "metadata": {},
   "outputs": [
    {
     "data": {
      "text/html": [
       "<div>\n",
       "<style scoped>\n",
       "    .dataframe tbody tr th:only-of-type {\n",
       "        vertical-align: middle;\n",
       "    }\n",
       "\n",
       "    .dataframe tbody tr th {\n",
       "        vertical-align: top;\n",
       "    }\n",
       "\n",
       "    .dataframe thead th {\n",
       "        text-align: right;\n",
       "    }\n",
       "</style>\n",
       "<table border=\"1\" class=\"dataframe\">\n",
       "  <thead>\n",
       "    <tr style=\"text-align: right;\">\n",
       "      <th></th>\n",
       "      <th>Teks</th>\n",
       "      <th>label</th>\n",
       "      <th>normalized_text</th>\n",
       "    </tr>\n",
       "  </thead>\n",
       "  <tbody>\n",
       "    <tr>\n",
       "      <th>0</th>\n",
       "      <td>Sy dh di rmh no 2</td>\n",
       "      <td>0.0</td>\n",
       "      <td>sydhdirmhno</td>\n",
       "    </tr>\n",
       "    <tr>\n",
       "      <th>1</th>\n",
       "      <td>pak bilang sj ya itu charger laptop</td>\n",
       "      <td>0.0</td>\n",
       "      <td>pakbilangsjyaituchargerlaptop</td>\n",
       "    </tr>\n",
       "    <tr>\n",
       "      <th>2</th>\n",
       "      <td>Mas.. sy gantung di bel ya mas .</td>\n",
       "      <td>0.0</td>\n",
       "      <td>massygantungdibelyamas</td>\n",
       "    </tr>\n",
       "    <tr>\n",
       "      <th>3</th>\n",
       "      <td>Sore mas\\nSy Dr gojek,,,ini sesuai pesanan ya\\...</td>\n",
       "      <td>1.0</td>\n",
       "      <td>soremassydrgojekinisesuaipesananyamohonditungg...</td>\n",
       "    </tr>\n",
       "    <tr>\n",
       "      <th>4</th>\n",
       "      <td>MERDEKA !!! Ambil diskon PULSA dan hadiah prom...</td>\n",
       "      <td>1.0</td>\n",
       "      <td>merdekaambildiskonpulsadanhadiahpromomerdekamu...</td>\n",
       "    </tr>\n",
       "  </tbody>\n",
       "</table>\n",
       "</div>"
      ],
      "text/plain": [
       "                                                Teks  label  \\\n",
       "0                                  Sy dh di rmh no 2    0.0   \n",
       "1               pak bilang sj ya itu charger laptop     0.0   \n",
       "2                   Mas.. sy gantung di bel ya mas .    0.0   \n",
       "3  Sore mas\\nSy Dr gojek,,,ini sesuai pesanan ya\\...    1.0   \n",
       "4  MERDEKA !!! Ambil diskon PULSA dan hadiah prom...    1.0   \n",
       "\n",
       "                                     normalized_text  \n",
       "0                                        sydhdirmhno  \n",
       "1                      pakbilangsjyaituchargerlaptop  \n",
       "2                             massygantungdibelyamas  \n",
       "3  soremassydrgojekinisesuaipesananyamohonditungg...  \n",
       "4  merdekaambildiskonpulsadanhadiahpromomerdekamu...  "
      ]
     },
     "execution_count": 31,
     "metadata": {},
     "output_type": "execute_result"
    }
   ],
   "source": [
    "def remove_duplicate_on_normalized(df):\n",
    "    df = df.drop_duplicates(subset=['normalized_text'], keep=\"first\")\n",
    "    return df\n",
    "\n",
    "df = remove_duplicate_on_normalized(df)\n",
    "df.head()"
   ]
  },
  {
   "cell_type": "code",
   "execution_count": 32,
   "metadata": {},
   "outputs": [
    {
     "data": {
      "text/plain": [
       "(711, 3)"
      ]
     },
     "execution_count": 32,
     "metadata": {},
     "output_type": "execute_result"
    }
   ],
   "source": [
    "df.shape"
   ]
  },
  {
   "cell_type": "code",
   "execution_count": 33,
   "metadata": {},
   "outputs": [
    {
     "data": {
      "text/html": [
       "<div>\n",
       "<style scoped>\n",
       "    .dataframe tbody tr th:only-of-type {\n",
       "        vertical-align: middle;\n",
       "    }\n",
       "\n",
       "    .dataframe tbody tr th {\n",
       "        vertical-align: top;\n",
       "    }\n",
       "\n",
       "    .dataframe thead th {\n",
       "        text-align: right;\n",
       "    }\n",
       "</style>\n",
       "<table border=\"1\" class=\"dataframe\">\n",
       "  <thead>\n",
       "    <tr style=\"text-align: right;\">\n",
       "      <th></th>\n",
       "      <th>Teks</th>\n",
       "      <th>label</th>\n",
       "    </tr>\n",
       "  </thead>\n",
       "  <tbody>\n",
       "    <tr>\n",
       "      <th>0</th>\n",
       "      <td>Sy dh di rmh no 2</td>\n",
       "      <td>0.0</td>\n",
       "    </tr>\n",
       "    <tr>\n",
       "      <th>1</th>\n",
       "      <td>pak bilang sj ya itu charger laptop</td>\n",
       "      <td>0.0</td>\n",
       "    </tr>\n",
       "    <tr>\n",
       "      <th>2</th>\n",
       "      <td>Mas.. sy gantung di bel ya mas .</td>\n",
       "      <td>0.0</td>\n",
       "    </tr>\n",
       "    <tr>\n",
       "      <th>3</th>\n",
       "      <td>Sore mas\\nSy Dr gojek,,,ini sesuai pesanan ya\\...</td>\n",
       "      <td>1.0</td>\n",
       "    </tr>\n",
       "    <tr>\n",
       "      <th>4</th>\n",
       "      <td>MERDEKA !!! Ambil diskon PULSA dan hadiah prom...</td>\n",
       "      <td>1.0</td>\n",
       "    </tr>\n",
       "  </tbody>\n",
       "</table>\n",
       "</div>"
      ],
      "text/plain": [
       "                                                Teks  label\n",
       "0                                  Sy dh di rmh no 2    0.0\n",
       "1               pak bilang sj ya itu charger laptop     0.0\n",
       "2                   Mas.. sy gantung di bel ya mas .    0.0\n",
       "3  Sore mas\\nSy Dr gojek,,,ini sesuai pesanan ya\\...    1.0\n",
       "4  MERDEKA !!! Ambil diskon PULSA dan hadiah prom...    1.0"
      ]
     },
     "execution_count": 33,
     "metadata": {},
     "output_type": "execute_result"
    }
   ],
   "source": [
    "df = df.drop('normalized_text', axis=1)\n",
    "df.head()"
   ]
  },
  {
   "cell_type": "code",
   "execution_count": 35,
   "metadata": {},
   "outputs": [],
   "source": [
    "# replace newline and tabs with spaces\n",
    "df['Teks'] = df.apply(lambda row: re.sub('\\s+',' ',row['Teks']), axis=1)\n",
    "\n",
    "\n",
    "# save to csv\n",
    "df.to_csv(\"removed_duplicates.csv\", index=False)"
   ]
  },
  {
   "cell_type": "code",
   "execution_count": null,
   "metadata": {},
   "outputs": [],
   "source": []
  }
 ],
 "metadata": {
  "kernelspec": {
   "display_name": "Python 3",
   "language": "python",
   "name": "python3"
  },
  "language_info": {
   "codemirror_mode": {
    "name": "ipython",
    "version": 3
   },
   "file_extension": ".py",
   "mimetype": "text/x-python",
   "name": "python",
   "nbconvert_exporter": "python",
   "pygments_lexer": "ipython3",
   "version": "3.7.1"
  }
 },
 "nbformat": 4,
 "nbformat_minor": 2
}
