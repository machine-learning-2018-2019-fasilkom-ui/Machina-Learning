{
 "cells": [
  {
   "cell_type": "code",
   "execution_count": 75,
   "metadata": {},
   "outputs": [],
   "source": [
    "import pandas as pd \n",
    "import os\n",
    "import re"
   ]
  },
  {
   "cell_type": "code",
   "execution_count": 76,
   "metadata": {},
   "outputs": [
    {
     "data": {
      "text/plain": [
       "'C:\\\\Users\\\\yusufsholeh\\\\Documents\\\\DSA_LABEL'"
      ]
     },
     "execution_count": 76,
     "metadata": {},
     "output_type": "execute_result"
    }
   ],
   "source": [
    "# os.chdir(\"C:\\\\Users\\\\yusufsholeh\\\\Documents\\\\ML\\\\Machina-Learning\")\n",
    "os.chdir(\"C:\\\\Users\\\\yusufsholeh\\\\Documents\\\\DSA_LABEL\")\n",
    "os.getcwd()"
   ]
  },
  {
   "cell_type": "code",
   "execution_count": 77,
   "metadata": {},
   "outputs": [
    {
     "data": {
      "text/plain": [
       "['digim.csv',\n",
       " 'digim.xls',\n",
       " 'rayza.csv',\n",
       " 'rayza.xlsx',\n",
       " 'removed_duplicates_rayza.csv',\n",
       " 'removed_duplicates_yudhis.csv',\n",
       " 'yudhis.csv',\n",
       " 'yudhis.xls']"
      ]
     },
     "execution_count": 77,
     "metadata": {},
     "output_type": "execute_result"
    }
   ],
   "source": [
    "os.listdir()"
   ]
  },
  {
   "cell_type": "code",
   "execution_count": 78,
   "metadata": {},
   "outputs": [],
   "source": [
    "df = pd.read_csv(\"digim.csv\")"
   ]
  },
  {
   "cell_type": "code",
   "execution_count": 79,
   "metadata": {},
   "outputs": [
    {
     "data": {
      "text/html": [
       "<div>\n",
       "<style scoped>\n",
       "    .dataframe tbody tr th:only-of-type {\n",
       "        vertical-align: middle;\n",
       "    }\n",
       "\n",
       "    .dataframe tbody tr th {\n",
       "        vertical-align: top;\n",
       "    }\n",
       "\n",
       "    .dataframe thead th {\n",
       "        text-align: right;\n",
       "    }\n",
       "</style>\n",
       "<table border=\"1\" class=\"dataframe\">\n",
       "  <thead>\n",
       "    <tr style=\"text-align: right;\">\n",
       "      <th></th>\n",
       "      <th>Teks</th>\n",
       "      <th>label</th>\n",
       "    </tr>\n",
       "  </thead>\n",
       "  <tbody>\n",
       "    <tr>\n",
       "      <th>0</th>\n",
       "      <td>Baik bu, saya akan ke sana</td>\n",
       "      <td>0.0</td>\n",
       "    </tr>\n",
       "    <tr>\n",
       "      <th>1</th>\n",
       "      <td>Tolong konfirmasinya ya</td>\n",
       "      <td>0.0</td>\n",
       "    </tr>\n",
       "    <tr>\n",
       "      <th>2</th>\n",
       "      <td>Selamat pagi, berhubung baru ada penggantian p...</td>\n",
       "      <td>0.0</td>\n",
       "    </tr>\n",
       "    <tr>\n",
       "      <th>3</th>\n",
       "      <td>Tokopedia - 324957 adalah kode untuk Masuk. JA...</td>\n",
       "      <td>0.0</td>\n",
       "    </tr>\n",
       "    <tr>\n",
       "      <th>4</th>\n",
       "      <td>Tokopedia - 777619 adalah kode verifikasi keam...</td>\n",
       "      <td>0.0</td>\n",
       "    </tr>\n",
       "  </tbody>\n",
       "</table>\n",
       "</div>"
      ],
      "text/plain": [
       "                                                Teks  label\n",
       "0                         Baik bu, saya akan ke sana    0.0\n",
       "1                            Tolong konfirmasinya ya    0.0\n",
       "2  Selamat pagi, berhubung baru ada penggantian p...    0.0\n",
       "3  Tokopedia - 324957 adalah kode untuk Masuk. JA...    0.0\n",
       "4  Tokopedia - 777619 adalah kode verifikasi keam...    0.0"
      ]
     },
     "execution_count": 79,
     "metadata": {},
     "output_type": "execute_result"
    }
   ],
   "source": [
    "df.head()"
   ]
  },
  {
   "cell_type": "code",
   "execution_count": 80,
   "metadata": {},
   "outputs": [
    {
     "data": {
      "text/plain": [
       "Teks      object\n",
       "label    float64\n",
       "dtype: object"
      ]
     },
     "execution_count": 80,
     "metadata": {},
     "output_type": "execute_result"
    }
   ],
   "source": [
    "df.dtypes"
   ]
  },
  {
   "cell_type": "code",
   "execution_count": 81,
   "metadata": {},
   "outputs": [],
   "source": [
    "# os.chdir(\"C:\\\\Users\\\\yusufsholeh\\\\Documents\\\\ML\\\\Machina-Learning\")"
   ]
  },
  {
   "cell_type": "code",
   "execution_count": 82,
   "metadata": {},
   "outputs": [],
   "source": [
    "# df2 = pd.read_csv(\"dataset.csv\")"
   ]
  },
  {
   "cell_type": "code",
   "execution_count": 83,
   "metadata": {},
   "outputs": [],
   "source": [
    "# df2.dtypes"
   ]
  },
  {
   "cell_type": "code",
   "execution_count": 84,
   "metadata": {},
   "outputs": [
    {
     "data": {
      "text/html": [
       "<div>\n",
       "<style scoped>\n",
       "    .dataframe tbody tr th:only-of-type {\n",
       "        vertical-align: middle;\n",
       "    }\n",
       "\n",
       "    .dataframe tbody tr th {\n",
       "        vertical-align: top;\n",
       "    }\n",
       "\n",
       "    .dataframe thead th {\n",
       "        text-align: right;\n",
       "    }\n",
       "</style>\n",
       "<table border=\"1\" class=\"dataframe\">\n",
       "  <thead>\n",
       "    <tr style=\"text-align: right;\">\n",
       "      <th></th>\n",
       "      <th>Teks</th>\n",
       "      <th>label</th>\n",
       "    </tr>\n",
       "  </thead>\n",
       "  <tbody>\n",
       "    <tr>\n",
       "      <th>0</th>\n",
       "      <td>Baik bu, saya akan ke sana</td>\n",
       "      <td>0.0</td>\n",
       "    </tr>\n",
       "    <tr>\n",
       "      <th>1</th>\n",
       "      <td>Tolong konfirmasinya ya</td>\n",
       "      <td>0.0</td>\n",
       "    </tr>\n",
       "    <tr>\n",
       "      <th>2</th>\n",
       "      <td>Selamat pagi, berhubung baru ada penggantian p...</td>\n",
       "      <td>0.0</td>\n",
       "    </tr>\n",
       "    <tr>\n",
       "      <th>3</th>\n",
       "      <td>Tokopedia - 324957 adalah kode untuk Masuk. JA...</td>\n",
       "      <td>0.0</td>\n",
       "    </tr>\n",
       "    <tr>\n",
       "      <th>4</th>\n",
       "      <td>Tokopedia - 777619 adalah kode verifikasi keam...</td>\n",
       "      <td>0.0</td>\n",
       "    </tr>\n",
       "  </tbody>\n",
       "</table>\n",
       "</div>"
      ],
      "text/plain": [
       "                                                Teks  label\n",
       "0                         Baik bu, saya akan ke sana    0.0\n",
       "1                            Tolong konfirmasinya ya    0.0\n",
       "2  Selamat pagi, berhubung baru ada penggantian p...    0.0\n",
       "3  Tokopedia - 324957 adalah kode untuk Masuk. JA...    0.0\n",
       "4  Tokopedia - 777619 adalah kode verifikasi keam...    0.0"
      ]
     },
     "execution_count": 84,
     "metadata": {},
     "output_type": "execute_result"
    }
   ],
   "source": [
    "df.head()"
   ]
  },
  {
   "cell_type": "code",
   "execution_count": 85,
   "metadata": {},
   "outputs": [
    {
     "data": {
      "text/html": [
       "<div>\n",
       "<style scoped>\n",
       "    .dataframe tbody tr th:only-of-type {\n",
       "        vertical-align: middle;\n",
       "    }\n",
       "\n",
       "    .dataframe tbody tr th {\n",
       "        vertical-align: top;\n",
       "    }\n",
       "\n",
       "    .dataframe thead th {\n",
       "        text-align: right;\n",
       "    }\n",
       "</style>\n",
       "<table border=\"1\" class=\"dataframe\">\n",
       "  <thead>\n",
       "    <tr style=\"text-align: right;\">\n",
       "      <th></th>\n",
       "      <th>Teks</th>\n",
       "      <th>label</th>\n",
       "      <th>normalized_text</th>\n",
       "    </tr>\n",
       "  </thead>\n",
       "  <tbody>\n",
       "    <tr>\n",
       "      <th>0</th>\n",
       "      <td>Baik bu, saya akan ke sana</td>\n",
       "      <td>0.0</td>\n",
       "      <td>baikbusayaakankesana</td>\n",
       "    </tr>\n",
       "    <tr>\n",
       "      <th>1</th>\n",
       "      <td>Tolong konfirmasinya ya</td>\n",
       "      <td>0.0</td>\n",
       "      <td>tolongkonfirmasinyaya</td>\n",
       "    </tr>\n",
       "    <tr>\n",
       "      <th>2</th>\n",
       "      <td>Selamat pagi, berhubung baru ada penggantian p...</td>\n",
       "      <td>0.0</td>\n",
       "      <td>selamatpagiberhubungbaruadapenggantianpimpinan...</td>\n",
       "    </tr>\n",
       "    <tr>\n",
       "      <th>3</th>\n",
       "      <td>Tokopedia - 324957 adalah kode untuk Masuk. JA...</td>\n",
       "      <td>0.0</td>\n",
       "      <td>tokopediaadalahkodeuntukmasukjanganmemberitahu...</td>\n",
       "    </tr>\n",
       "    <tr>\n",
       "      <th>4</th>\n",
       "      <td>Tokopedia - 777619 adalah kode verifikasi keam...</td>\n",
       "      <td>0.0</td>\n",
       "      <td>tokopediaadalahkodeverifikasikeamananpentingde...</td>\n",
       "    </tr>\n",
       "  </tbody>\n",
       "</table>\n",
       "</div>"
      ],
      "text/plain": [
       "                                                Teks  label  \\\n",
       "0                         Baik bu, saya akan ke sana    0.0   \n",
       "1                            Tolong konfirmasinya ya    0.0   \n",
       "2  Selamat pagi, berhubung baru ada penggantian p...    0.0   \n",
       "3  Tokopedia - 324957 adalah kode untuk Masuk. JA...    0.0   \n",
       "4  Tokopedia - 777619 adalah kode verifikasi keam...    0.0   \n",
       "\n",
       "                                     normalized_text  \n",
       "0                               baikbusayaakankesana  \n",
       "1                              tolongkonfirmasinyaya  \n",
       "2  selamatpagiberhubungbaruadapenggantianpimpinan...  \n",
       "3  tokopediaadalahkodeuntukmasukjanganmemberitahu...  \n",
       "4  tokopediaadalahkodeverifikasikeamananpentingde...  "
      ]
     },
     "execution_count": 85,
     "metadata": {},
     "output_type": "execute_result"
    }
   ],
   "source": [
    "import string\n",
    "def normalize(s):\n",
    "    s = str(s)\n",
    "    s = str.lower(s)\n",
    "    \n",
    "    # replace numbers with empty string\n",
    "    s = ' '.join(re.sub(r\"[0-9]+\", '', word) for word in s.split())\n",
    "    \n",
    "    # remove symbols\n",
    "    s = s.translate(str.maketrans('', '', string.punctuation))\n",
    "    \n",
    "    # remove spaces\n",
    "    s = re.sub('\\s+',' ',s)\n",
    "    s = s.strip()\n",
    "    s = s.replace(\" \", \"\")\n",
    "    \n",
    "    return s\n",
    "\n",
    "def add_normalized_column(df):\n",
    "    df['normalized_text'] = df.apply(lambda row: normalize(row['Teks']), axis=1)\n",
    "    return df\n",
    "\n",
    "df = add_normalized_column(df)\n",
    "df.head()"
   ]
  },
  {
   "cell_type": "code",
   "execution_count": 86,
   "metadata": {},
   "outputs": [
    {
     "data": {
      "text/plain": [
       "(2688, 3)"
      ]
     },
     "execution_count": 86,
     "metadata": {},
     "output_type": "execute_result"
    }
   ],
   "source": [
    "df.shape"
   ]
  },
  {
   "cell_type": "code",
   "execution_count": 87,
   "metadata": {},
   "outputs": [
    {
     "data": {
      "text/html": [
       "<div>\n",
       "<style scoped>\n",
       "    .dataframe tbody tr th:only-of-type {\n",
       "        vertical-align: middle;\n",
       "    }\n",
       "\n",
       "    .dataframe tbody tr th {\n",
       "        vertical-align: top;\n",
       "    }\n",
       "\n",
       "    .dataframe thead th {\n",
       "        text-align: right;\n",
       "    }\n",
       "</style>\n",
       "<table border=\"1\" class=\"dataframe\">\n",
       "  <thead>\n",
       "    <tr style=\"text-align: right;\">\n",
       "      <th></th>\n",
       "      <th>Teks</th>\n",
       "      <th>label</th>\n",
       "      <th>normalized_text</th>\n",
       "    </tr>\n",
       "  </thead>\n",
       "  <tbody>\n",
       "    <tr>\n",
       "      <th>0</th>\n",
       "      <td>Baik bu, saya akan ke sana</td>\n",
       "      <td>0.0</td>\n",
       "      <td>baikbusayaakankesana</td>\n",
       "    </tr>\n",
       "    <tr>\n",
       "      <th>1</th>\n",
       "      <td>Tolong konfirmasinya ya</td>\n",
       "      <td>0.0</td>\n",
       "      <td>tolongkonfirmasinyaya</td>\n",
       "    </tr>\n",
       "    <tr>\n",
       "      <th>2</th>\n",
       "      <td>Selamat pagi, berhubung baru ada penggantian p...</td>\n",
       "      <td>0.0</td>\n",
       "      <td>selamatpagiberhubungbaruadapenggantianpimpinan...</td>\n",
       "    </tr>\n",
       "    <tr>\n",
       "      <th>3</th>\n",
       "      <td>Tokopedia - 324957 adalah kode untuk Masuk. JA...</td>\n",
       "      <td>0.0</td>\n",
       "      <td>tokopediaadalahkodeuntukmasukjanganmemberitahu...</td>\n",
       "    </tr>\n",
       "    <tr>\n",
       "      <th>4</th>\n",
       "      <td>Tokopedia - 777619 adalah kode verifikasi keam...</td>\n",
       "      <td>0.0</td>\n",
       "      <td>tokopediaadalahkodeverifikasikeamananpentingde...</td>\n",
       "    </tr>\n",
       "  </tbody>\n",
       "</table>\n",
       "</div>"
      ],
      "text/plain": [
       "                                                Teks  label  \\\n",
       "0                         Baik bu, saya akan ke sana    0.0   \n",
       "1                            Tolong konfirmasinya ya    0.0   \n",
       "2  Selamat pagi, berhubung baru ada penggantian p...    0.0   \n",
       "3  Tokopedia - 324957 adalah kode untuk Masuk. JA...    0.0   \n",
       "4  Tokopedia - 777619 adalah kode verifikasi keam...    0.0   \n",
       "\n",
       "                                     normalized_text  \n",
       "0                               baikbusayaakankesana  \n",
       "1                              tolongkonfirmasinyaya  \n",
       "2  selamatpagiberhubungbaruadapenggantianpimpinan...  \n",
       "3  tokopediaadalahkodeuntukmasukjanganmemberitahu...  \n",
       "4  tokopediaadalahkodeverifikasikeamananpentingde...  "
      ]
     },
     "execution_count": 87,
     "metadata": {},
     "output_type": "execute_result"
    }
   ],
   "source": [
    "def remove_duplicate_on_normalized(df):\n",
    "    df = df.drop_duplicates(subset=['normalized_text'], keep=\"first\")\n",
    "    return df\n",
    "\n",
    "df = remove_duplicate_on_normalized(df)\n",
    "df.head()"
   ]
  },
  {
   "cell_type": "code",
   "execution_count": 88,
   "metadata": {},
   "outputs": [
    {
     "data": {
      "text/plain": [
       "(1118, 3)"
      ]
     },
     "execution_count": 88,
     "metadata": {},
     "output_type": "execute_result"
    }
   ],
   "source": [
    "df.shape"
   ]
  },
  {
   "cell_type": "code",
   "execution_count": 89,
   "metadata": {},
   "outputs": [
    {
     "data": {
      "text/html": [
       "<div>\n",
       "<style scoped>\n",
       "    .dataframe tbody tr th:only-of-type {\n",
       "        vertical-align: middle;\n",
       "    }\n",
       "\n",
       "    .dataframe tbody tr th {\n",
       "        vertical-align: top;\n",
       "    }\n",
       "\n",
       "    .dataframe thead th {\n",
       "        text-align: right;\n",
       "    }\n",
       "</style>\n",
       "<table border=\"1\" class=\"dataframe\">\n",
       "  <thead>\n",
       "    <tr style=\"text-align: right;\">\n",
       "      <th></th>\n",
       "      <th>Teks</th>\n",
       "      <th>label</th>\n",
       "    </tr>\n",
       "  </thead>\n",
       "  <tbody>\n",
       "    <tr>\n",
       "      <th>0</th>\n",
       "      <td>Baik bu, saya akan ke sana</td>\n",
       "      <td>0.0</td>\n",
       "    </tr>\n",
       "    <tr>\n",
       "      <th>1</th>\n",
       "      <td>Tolong konfirmasinya ya</td>\n",
       "      <td>0.0</td>\n",
       "    </tr>\n",
       "    <tr>\n",
       "      <th>2</th>\n",
       "      <td>Selamat pagi, berhubung baru ada penggantian p...</td>\n",
       "      <td>0.0</td>\n",
       "    </tr>\n",
       "    <tr>\n",
       "      <th>3</th>\n",
       "      <td>Tokopedia - 324957 adalah kode untuk Masuk. JA...</td>\n",
       "      <td>0.0</td>\n",
       "    </tr>\n",
       "    <tr>\n",
       "      <th>4</th>\n",
       "      <td>Tokopedia - 777619 adalah kode verifikasi keam...</td>\n",
       "      <td>0.0</td>\n",
       "    </tr>\n",
       "  </tbody>\n",
       "</table>\n",
       "</div>"
      ],
      "text/plain": [
       "                                                Teks  label\n",
       "0                         Baik bu, saya akan ke sana    0.0\n",
       "1                            Tolong konfirmasinya ya    0.0\n",
       "2  Selamat pagi, berhubung baru ada penggantian p...    0.0\n",
       "3  Tokopedia - 324957 adalah kode untuk Masuk. JA...    0.0\n",
       "4  Tokopedia - 777619 adalah kode verifikasi keam...    0.0"
      ]
     },
     "execution_count": 89,
     "metadata": {},
     "output_type": "execute_result"
    }
   ],
   "source": [
    "df = df.drop('normalized_text', axis=1)\n",
    "df.head()"
   ]
  },
  {
   "cell_type": "code",
   "execution_count": 91,
   "metadata": {},
   "outputs": [],
   "source": [
    "# replace newline and tabs with spaces\n",
    "df['Teks'] = df.apply(lambda row: re.sub('\\s+',' ',str(row['Teks'])), axis=1)\n",
    "\n",
    "\n",
    "# save to csv\n",
    "df.to_csv(\"removed_duplicates_digim.csv\", index=False)"
   ]
  },
  {
   "cell_type": "code",
   "execution_count": 15,
   "metadata": {},
   "outputs": [
    {
     "name": "stdout",
     "output_type": "stream",
     "text": [
      "SK berlaku sampai tujunagasf sf asfas\n"
     ]
    }
   ],
   "source": []
  },
  {
   "cell_type": "code",
   "execution_count": 56,
   "metadata": {},
   "outputs": [
    {
     "data": {
      "text/plain": [
       "'3a'"
      ]
     },
     "execution_count": 56,
     "metadata": {},
     "output_type": "execute_result"
    }
   ],
   "source": []
  },
  {
   "cell_type": "code",
   "execution_count": null,
   "metadata": {},
   "outputs": [],
   "source": []
  }
 ],
 "metadata": {
  "kernelspec": {
   "display_name": "Python 3",
   "language": "python",
   "name": "python3"
  },
  "language_info": {
   "codemirror_mode": {
    "name": "ipython",
    "version": 3
   },
   "file_extension": ".py",
   "mimetype": "text/x-python",
   "name": "python",
   "nbconvert_exporter": "python",
   "pygments_lexer": "ipython3",
   "version": "3.7.1"
  }
 },
 "nbformat": 4,
 "nbformat_minor": 2
}
